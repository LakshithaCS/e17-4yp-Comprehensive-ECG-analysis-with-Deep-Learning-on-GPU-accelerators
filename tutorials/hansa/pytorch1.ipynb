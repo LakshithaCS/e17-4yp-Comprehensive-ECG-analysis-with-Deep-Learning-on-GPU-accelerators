{
 "cells": [
  {
   "attachments": {},
   "cell_type": "markdown",
   "metadata": {},
   "source": [
    "This is the tutorail from https://pytorch.org/tutorials/beginner/basics/quickstart_tutorial.html"
   ]
  },
  {
   "cell_type": "code",
   "execution_count": 1,
   "metadata": {},
   "outputs": [
    {
     "name": "stdout",
     "output_type": "stream",
     "text": [
      "Hello World\n"
     ]
    }
   ],
   "source": [
    "print(\"Hello World\")\n",
    "# just checking if git push works on mac"
   ]
  },
  {
   "attachments": {},
   "cell_type": "markdown",
   "metadata": {},
   "source": [
    "PyTorch has two primitives to work with data: torch.utils.data.DataLoader and torch.utils.data.Dataset. Dataset stores the samples and their corresponding labels, and DataLoader wraps an iterable around the Dataset"
   ]
  },
  {
   "attachments": {},
   "cell_type": "markdown",
   "metadata": {},
   "source": [
    "# 1. Working with data"
   ]
  },
  {
   "cell_type": "code",
   "execution_count": 2,
   "metadata": {},
   "outputs": [],
   "source": [
    "import torch\n",
    "from torch import nn\n",
    "\n",
    "from torch.utils.data import DataLoader\n",
    "\n",
    "#PyTorch offers domain-specific libraries such as TorchText, TorchVision, and TorchAudio, all of which include datasets\n",
    "from torchvision import datasets\n",
    "from torchvision.transforms import ToTensor\n"
   ]
  },
  {
   "cell_type": "code",
   "execution_count": 3,
   "metadata": {},
   "outputs": [],
   "source": [
    "#Downloading training data from open datasets\n",
    "training_data = datasets.FashionMNIST(\n",
    "    root=\"data\",        # directory of the dataset\n",
    "    train=True,\n",
    "    download=True,\n",
    "    transform=ToTensor()       # Specifies the transformation to apply to the data. \n",
    "    # In this case it converts the images to PyTorch tensors.\n",
    ")\n",
    "\n",
    "#Downloading test data from open datasets\n",
    "test_data = datasets.FashionMNIST(\n",
    "    root=\"data\",\n",
    "    train=False,\n",
    "    download=True,\n",
    "    transform=ToTensor()\n",
    ")"
   ]
  },
  {
   "cell_type": "code",
   "execution_count": 5,
   "metadata": {},
   "outputs": [
    {
     "data": {
      "text/plain": [
       "torchvision.datasets.mnist.FashionMNIST"
      ]
     },
     "execution_count": 5,
     "metadata": {},
     "output_type": "execute_result"
    }
   ],
   "source": [
    "type(training_data)"
   ]
  },
  {
   "attachments": {},
   "cell_type": "markdown",
   "metadata": {},
   "source": [
    "pass the Dataset as an argument to DataLoader. This wraps an iterable over our dataset, and supports automatic batching, sampling, shuffling and multiprocess data loading."
   ]
  },
  {
   "cell_type": "code",
   "execution_count": 4,
   "metadata": {},
   "outputs": [],
   "source": [
    "#each element in the dataloader iterable will return a batch of 64 features and labels.\n",
    "batch_size = 64\n",
    "\n",
    "train_dataloader = DataLoader(training_data, batch_size=batch_size, shuffle=True)\n",
    "test_dataloader = DataLoader(test_data, batch_size=batch_size, shuffle=True)"
   ]
  },
  {
   "cell_type": "code",
   "execution_count": 10,
   "metadata": {},
   "outputs": [
    {
     "data": {
      "text/plain": [
       "<torch.utils.data.dataloader.DataLoader at 0x1dbb7d5e510>"
      ]
     },
     "execution_count": 10,
     "metadata": {},
     "output_type": "execute_result"
    }
   ],
   "source": [
    "train_dataloader"
   ]
  },
  {
   "cell_type": "code",
   "execution_count": 29,
   "metadata": {},
   "outputs": [
    {
     "data": {
      "text/plain": [
       "torchvision.datasets.mnist.FashionMNIST"
      ]
     },
     "execution_count": 29,
     "metadata": {},
     "output_type": "execute_result"
    }
   ],
   "source": [
    "type(train_dataloader.dataset)"
   ]
  },
  {
   "cell_type": "code",
   "execution_count": 19,
   "metadata": {},
   "outputs": [
    {
     "name": "stdout",
     "output_type": "stream",
     "text": [
      "torch.Size([64, 1, 28, 28]) torch.Size([64]) torch.float32 torch.int64\n"
     ]
    }
   ],
   "source": [
    "for X, y in test_dataloader:\n",
    "    print(X.shape, y.shape, X.dtype, y.dtype)\n",
    "    break"
   ]
  },
  {
   "attachments": {},
   "cell_type": "markdown",
   "metadata": {},
   "source": [
    "torch.Size([64, 1, 28, 28]) --> tensor has a size of 64 along the batch dimension, 1 along the channel dimension, 28 along the height dimension, and 28 along the width dimension. It indicates that you have a batch of 64 images, each with a single channel (grayscale), and a resolution of 28x28 pixels. <br> \n",
    "torch.Size([64]) --> Label tensor size <br>\n",
    "torch.float32 torch.int64 --> dtypes of the tensor<br>\n"
   ]
  },
  {
   "attachments": {},
   "cell_type": "markdown",
   "metadata": {},
   "source": [
    "# 2. Creating Models"
   ]
  },
  {
   "attachments": {},
   "cell_type": "markdown",
   "metadata": {},
   "source": [
    "To define a neural network in PyTorch, we create a class that inherits from nn.Module. We define the layers of the network in the __init__ function and specify how data will pass through the network in the forward function. To accelerate operations in the neural network, we move it to the GPU or MPS if available."
   ]
  },
  {
   "cell_type": "code",
   "execution_count": 5,
   "metadata": {},
   "outputs": [
    {
     "name": "stdout",
     "output_type": "stream",
     "text": [
      "mps\n"
     ]
    }
   ],
   "source": [
    "# Get cpu, gpu or mps device for training \n",
    "device = (\n",
    "    \"cuda\"\n",
    "    if torch.cuda.is_available()\n",
    "    else \"mps\"\n",
    "    if torch.backends.mps.is_available()\n",
    "    else \"cpu\"\n",
    ")\n",
    "\n",
    "print(device)"
   ]
  },
  {
   "cell_type": "code",
   "execution_count": 5,
   "metadata": {},
   "outputs": [
    {
     "data": {
      "text/plain": [
       "True"
      ]
     },
     "execution_count": 5,
     "metadata": {},
     "output_type": "execute_result"
    }
   ],
   "source": [
    "torch.backends.mps.is_built()"
   ]
  },
  {
   "cell_type": "code",
   "execution_count": 6,
   "metadata": {},
   "outputs": [
    {
     "data": {
      "text/plain": [
       "True"
      ]
     },
     "execution_count": 6,
     "metadata": {},
     "output_type": "execute_result"
    }
   ],
   "source": [
    "torch.backends.mps.is_available()"
   ]
  },
  {
   "cell_type": "code",
   "execution_count": 6,
   "metadata": {},
   "outputs": [
    {
     "name": "stdout",
     "output_type": "stream",
     "text": [
      "NeuralNetwork(\n",
      "  (flatten): Flatten(start_dim=1, end_dim=-1)\n",
      "  (linear_relu_stack): Sequential(\n",
      "    (0): Linear(in_features=784, out_features=512, bias=True)\n",
      "    (1): ReLU()\n",
      "    (2): Linear(in_features=512, out_features=512, bias=True)\n",
      "    (3): ReLU()\n",
      "    (4): Linear(in_features=512, out_features=10, bias=True)\n",
      "  )\n",
      ")\n"
     ]
    }
   ],
   "source": [
    "# Define the model\n",
    "# nn.Module --> base class for all neural network modules\n",
    "class NeuralNetwork(nn.Module):\n",
    "    #network archirecture is defined in the init method\n",
    "    def __init__(self):\n",
    "        super().__init__()      #calls the __init__() method of the nn.Module pearent class \n",
    "        #( to ensure that the necessary setup and initialization from the parent class are performed.)\n",
    "        #This is important because the nn.Module class performs important bookkeeping tasks and sets up the internal state of the module.\n",
    "\n",
    "        #self.x are methods below. \n",
    "        self.flatten = nn.Flatten()\n",
    "\n",
    "        self.linear_relu_stack = nn.Sequential( # allows to stack multiple layers in a sequential manner\n",
    "            nn.Linear(28*28, 512),\n",
    "            nn.ReLU(),\n",
    "            nn.Linear(512, 512),\n",
    "            nn.ReLU(),\n",
    "            nn.Linear(512,10)\n",
    "        )\n",
    "\n",
    "    # method to define the forward pass computation of the model\n",
    "    def forward(self, x):\n",
    "        #x = self.flatten(x)   --> __call__ method is used to call the forward method (IMPORTANT)\n",
    "        #x = self.linear_relu_stack(x) this also can be used\n",
    "        x = self.flatten.forward(x)\n",
    "        logits = self.linear_relu_stack.forward(x)\n",
    "        return logits\n",
    "    \n",
    "model = NeuralNetwork().to(device)\n",
    "print(model)"
   ]
  },
  {
   "attachments": {},
   "cell_type": "markdown",
   "metadata": {},
   "source": [
    "# 3. Optimizing the Model Parameters"
   ]
  },
  {
   "cell_type": "code",
   "execution_count": 7,
   "metadata": {},
   "outputs": [],
   "source": [
    "# loss function\n",
    "loss_fn = nn.CrossEntropyLoss()\n",
    "optimizer = torch.optim.SGD(model.parameters(), lr=0.001)"
   ]
  },
  {
   "attachments": {},
   "cell_type": "markdown",
   "metadata": {},
   "source": [
    "In a single training loop, the model makes predictions on the training dataset (fed to it in batches), and backpropagates the prediction error to adjust the model’s parameters."
   ]
  },
  {
   "cell_type": "code",
   "execution_count": 8,
   "metadata": {},
   "outputs": [],
   "source": [
    "def train(dataloader, model, loss_fn, optimizer):\n",
    "    size = len(dataloader.dataset)  # get the total number of samples in the dataset\n",
    "    model.train()   #sets the model in training mode (Stets the attribute named Training to True for the model instance) \n",
    "    #Dropout, batch normalization, etc. are used during training.\n",
    "\n",
    "    # iterates over the batches in the dataloader\n",
    "    for batch, (X, y) in enumerate(dataloader):\n",
    "        # moves the input data to the device\n",
    "        X, y = X.to(device), y.to(device)\n",
    "\n",
    "        # compute prediction and loss --> Forward pass\n",
    "        pred = model(X)\n",
    "        loss = loss_fn(pred, y)\n",
    "\n",
    "        #Backpropagation\n",
    "        loss.backward() # compute the gradients of the model's parameters with respect to the loss function's output\n",
    "        optimizer.step()    #Update the models parameters an optimization algorithm\n",
    "        optimizer.zero_grad()   # Sets all the gradients to zero. If the gradients are not cleared they ll be accumilated.\n",
    "\n",
    "        # prints the progress of the training\n",
    "        if batch % 100 == 0:\n",
    "            loss, current = loss.item(), batch * len(X)\n",
    "            print(f\"loss: {loss:>7f}  [{current:>5d}/{size:>5d}]\")"
   ]
  },
  {
   "cell_type": "code",
   "execution_count": 9,
   "metadata": {},
   "outputs": [
    {
     "name": "stdout",
     "output_type": "stream",
     "text": [
      "Epoch 1\n",
      "-------------------------------\n",
      "loss: 2.296412  [    0/60000]\n",
      "loss: 2.290769  [ 6400/60000]\n",
      "loss: 2.280446  [12800/60000]\n",
      "loss: 2.276624  [19200/60000]\n",
      "loss: 2.247541  [25600/60000]\n",
      "loss: 2.240719  [32000/60000]\n",
      "loss: 2.220475  [38400/60000]\n",
      "loss: 2.190012  [44800/60000]\n",
      "loss: 2.195565  [51200/60000]\n",
      "loss: 2.177196  [57600/60000]\n",
      "Epoch 2\n",
      "-------------------------------\n",
      "loss: 2.164548  [    0/60000]\n",
      "loss: 2.135711  [ 6400/60000]\n",
      "loss: 2.122465  [12800/60000]\n",
      "loss: 2.084564  [19200/60000]\n",
      "loss: 2.043569  [25600/60000]\n",
      "loss: 2.046818  [32000/60000]\n",
      "loss: 2.020132  [38400/60000]\n",
      "loss: 1.947254  [44800/60000]\n",
      "loss: 1.923546  [51200/60000]\n",
      "loss: 1.973825  [57600/60000]\n",
      "Epoch 3\n",
      "-------------------------------\n",
      "loss: 1.904248  [    0/60000]\n",
      "loss: 1.843148  [ 6400/60000]\n",
      "loss: 1.822637  [12800/60000]\n",
      "loss: 1.824783  [19200/60000]\n",
      "loss: 1.741229  [25600/60000]\n",
      "loss: 1.717850  [32000/60000]\n",
      "loss: 1.760576  [38400/60000]\n",
      "loss: 1.594902  [44800/60000]\n",
      "loss: 1.528427  [51200/60000]\n",
      "loss: 1.548348  [57600/60000]\n",
      "Epoch 4\n",
      "-------------------------------\n",
      "loss: 1.558306  [    0/60000]\n",
      "loss: 1.474003  [ 6400/60000]\n",
      "loss: 1.409571  [12800/60000]\n",
      "loss: 1.401886  [19200/60000]\n",
      "loss: 1.346982  [25600/60000]\n",
      "loss: 1.419693  [32000/60000]\n",
      "loss: 1.319595  [38400/60000]\n",
      "loss: 1.313832  [44800/60000]\n",
      "loss: 1.230082  [51200/60000]\n",
      "loss: 1.123627  [57600/60000]\n",
      "Epoch 5\n",
      "-------------------------------\n",
      "loss: 1.234436  [    0/60000]\n",
      "loss: 1.270396  [ 6400/60000]\n",
      "loss: 1.224220  [12800/60000]\n",
      "loss: 1.229576  [19200/60000]\n",
      "loss: 1.151974  [25600/60000]\n",
      "loss: 1.205001  [32000/60000]\n",
      "loss: 1.062850  [38400/60000]\n",
      "loss: 1.151905  [44800/60000]\n",
      "loss: 1.077022  [51200/60000]\n",
      "loss: 1.077471  [57600/60000]\n",
      "Done!\n",
      "CPU times: user 17.1 s, sys: 1.55 s, total: 18.7 s\n",
      "Wall time: 21.5 s\n"
     ]
    }
   ],
   "source": [
    "%%time\n",
    "epochs = 5\n",
    "for t in range(epochs):\n",
    "    print(f\"Epoch {t+1}\\n-------------------------------\")\n",
    "    train(train_dataloader, model, loss_fn, optimizer)\n",
    "    #test(test_dataloader, model, loss_fn)\n",
    "print(\"Done!\")"
   ]
  }
 ],
 "metadata": {
  "kernelspec": {
   "display_name": "TestMac",
   "language": "python",
   "name": "testmac"
  },
  "language_info": {
   "codemirror_mode": {
    "name": "ipython",
    "version": 3
   },
   "file_extension": ".py",
   "mimetype": "text/x-python",
   "name": "python",
   "nbconvert_exporter": "python",
   "pygments_lexer": "ipython3",
   "version": "3.10.11"
  },
  "orig_nbformat": 4
 },
 "nbformat": 4,
 "nbformat_minor": 2
}
