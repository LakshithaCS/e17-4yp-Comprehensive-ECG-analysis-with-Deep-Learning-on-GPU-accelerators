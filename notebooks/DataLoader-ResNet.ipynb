{
 "cells": [
  {
   "attachments": {},
   "cell_type": "markdown",
   "metadata": {},
   "source": [
    "#### 1. Setup and Importing Libraries"
   ]
  },
  {
   "cell_type": "code",
   "execution_count": 48,
   "metadata": {},
   "outputs": [],
   "source": [
    "import torch\n",
    "from torch import nn\n",
    "from torch.utils.data import DataLoader, Dataset # wraps an iterable around the dataset\n",
    "from torchvision import datasets    # stores the samples and their corresponding labels\n",
    "from torchvision.transforms import transforms  # transformations we can perform on our dataset\n",
    "from torchvision.transforms import ToTensor\n",
    "import pandas as pd\n",
    "import numpy as np\n",
    "import os\n",
    "import wandb\n",
    "import matplotlib.pyplot as plt"
   ]
  },
  {
   "cell_type": "code",
   "execution_count": 49,
   "metadata": {},
   "outputs": [],
   "source": [
    "# Set API Key\n",
    "os.environ[\"WANDB_API_KEY\"] = \"cf61e02cee13abdd3d8a232d29df527bd6cc7f89\"\n",
    "\n",
    "# Set the WANDB_NOTEBOOK_NAME environment variable to the name of your notebook (manually)\n",
    "os.environ[\"WANDB_NOTEBOOK_NAME\"] = \"DataLoader.ipynb\"\n",
    "\n",
    "# set the WANDB_TEMP environment variable to a directory where we have write permissions\n",
    "os.environ[\"WANDB_TEMP\"] = os.getcwd()\n",
    "os.environ[\"WANDB_DIR\"] = os.getcwd()\n",
    "os.environ[\"WANDB_CONFIG_DIR\"] = os.getcwd()"
   ]
  },
  {
   "cell_type": "code",
   "execution_count": 50,
   "metadata": {},
   "outputs": [
    {
     "data": {
      "text/html": [
       "Tracking run with wandb version 0.15.4"
      ],
      "text/plain": [
       "<IPython.core.display.HTML object>"
      ]
     },
     "metadata": {},
     "output_type": "display_data"
    },
    {
     "data": {
      "text/html": [
       "Run data is saved locally in <code>/storage/projects2/e17-4yp-compreh-ecg-analysis/e17-4yp-Comprehensive-ECG-analysis-with-Deep-Learning-on-GPU-accelerators/notebooks/wandb/run-20230703_233401-gp1m3qi7</code>"
      ],
      "text/plain": [
       "<IPython.core.display.HTML object>"
      ]
     },
     "metadata": {},
     "output_type": "display_data"
    },
    {
     "data": {
      "text/html": [
       "Syncing run <strong><a href='https://wandb.ai/comprehensive-ecg-analysis/ECG-analysis-with-Deep-Learning-on-GPU-accelerators/runs/gp1m3qi7' target=\"_blank\">magic-valley-36</a></strong> to <a href='https://wandb.ai/comprehensive-ecg-analysis/ECG-analysis-with-Deep-Learning-on-GPU-accelerators' target=\"_blank\">Weights & Biases</a> (<a href='https://wandb.me/run' target=\"_blank\">docs</a>)<br/>"
      ],
      "text/plain": [
       "<IPython.core.display.HTML object>"
      ]
     },
     "metadata": {},
     "output_type": "display_data"
    },
    {
     "data": {
      "text/html": [
       " View project at <a href='https://wandb.ai/comprehensive-ecg-analysis/ECG-analysis-with-Deep-Learning-on-GPU-accelerators' target=\"_blank\">https://wandb.ai/comprehensive-ecg-analysis/ECG-analysis-with-Deep-Learning-on-GPU-accelerators</a>"
      ],
      "text/plain": [
       "<IPython.core.display.HTML object>"
      ]
     },
     "metadata": {},
     "output_type": "display_data"
    },
    {
     "data": {
      "text/html": [
       " View run at <a href='https://wandb.ai/comprehensive-ecg-analysis/ECG-analysis-with-Deep-Learning-on-GPU-accelerators/runs/gp1m3qi7' target=\"_blank\">https://wandb.ai/comprehensive-ecg-analysis/ECG-analysis-with-Deep-Learning-on-GPU-accelerators/runs/gp1m3qi7</a>"
      ],
      "text/plain": [
       "<IPython.core.display.HTML object>"
      ]
     },
     "metadata": {},
     "output_type": "display_data"
    },
    {
     "data": {
      "text/html": [
       "<button onClick=\"this.nextSibling.style.display='block';this.style.display='none';\">Display W&B run</button><iframe src='https://wandb.ai/comprehensive-ecg-analysis/ECG-analysis-with-Deep-Learning-on-GPU-accelerators/runs/gp1m3qi7?jupyter=true' style='border:none;width:100%;height:420px;display:none;'></iframe>"
      ],
      "text/plain": [
       "<wandb.sdk.wandb_run.Run at 0x7f5323682890>"
      ]
     },
     "execution_count": 50,
     "metadata": {},
     "output_type": "execute_result"
    }
   ],
   "source": [
    "wandb.init(project='ECG-analysis-with-Deep-Learning-on-GPU-accelerators')"
   ]
  },
  {
   "cell_type": "code",
   "execution_count": 51,
   "metadata": {},
   "outputs": [],
   "source": [
    "# Get cpu, gpu or mps device for training \n",
    "device = (\n",
    "    \"cuda\"\n",
    "    if torch.cuda.is_available()\n",
    "    else \"mps\"\n",
    "    if torch.backends.mps.is_available()\n",
    "    else \"cpu\"\n",
    ")"
   ]
  },
  {
   "cell_type": "code",
   "execution_count": 52,
   "metadata": {},
   "outputs": [],
   "source": [
    "#torch.cuda.get_device_name(0)"
   ]
  },
  {
   "attachments": {},
   "cell_type": "markdown",
   "metadata": {},
   "source": [
    "#### 2. Data Loader"
   ]
  },
  {
   "cell_type": "code",
   "execution_count": 53,
   "metadata": {},
   "outputs": [],
   "source": [
    "class ECGDataSet(Dataset):\n",
    "    \n",
    "    def __init__(self, split='train'):\n",
    "\n",
    "        self.split = split\n",
    "\n",
    "        # data loading\n",
    "        current_directory = os.getcwd()\n",
    "        self.parent_directory = os.path.dirname(current_directory)\n",
    "        train_small_path = os.path.join(self.parent_directory, 'data', 'deepfake-ecg-small', str(self.split) + '.csv')\n",
    "        self.df = pd.read_csv(train_small_path)  # Skip the header row\n",
    "        \n",
    "        # Avg RR interval\n",
    "        # in milli seconds\n",
    "        RR = torch.tensor(self.df['avgrrinterval'].values, dtype=torch.float32)\n",
    "        # calculate HR\n",
    "        self.y = 60 * 1000/RR\n",
    "\n",
    "        # Size of the dataset\n",
    "        self.samples = self.df.shape[0]\n",
    "\n",
    "    def __getitem__(self, index):\n",
    "        \n",
    "        # file path\n",
    "        filename= self.df['patid'].values[index]\n",
    "        asc_path = os.path.join(self.parent_directory, 'data', 'deepfake-ecg-small', str(self.split), str(filename) + '.asc')\n",
    "        \n",
    "        ecg_signals = pd.read_csv( asc_path, header=None, sep=\" \") # read into dataframe\n",
    "        ecg_signals = torch.tensor(ecg_signals.values) # convert dataframe values to tensor\n",
    "        \n",
    "        ecg_signals = ecg_signals.float()\n",
    "        \n",
    "        # Transposing the ecg signals\n",
    "        ecg_signals = ecg_signals/6000 # normalization\n",
    "        ecg_signals = ecg_signals.t() \n",
    "        \n",
    "        qt = self.y[index]\n",
    "        # Retrieve a sample from x and y based on the index\n",
    "        return ecg_signals, qt\n",
    "\n",
    "    def __len__(self):\n",
    "        # Return the total number of samples in the dataset\n",
    "        return self.samples\n",
    "    "
   ]
  },
  {
   "cell_type": "code",
   "execution_count": 54,
   "metadata": {},
   "outputs": [],
   "source": [
    "# ECG dataset\n",
    "train_dataset = ECGDataSet(split='train')\n",
    "validate_dataset = ECGDataSet(split='validate')"
   ]
  },
  {
   "cell_type": "code",
   "execution_count": 55,
   "metadata": {},
   "outputs": [],
   "source": [
    "# first data\n",
    "first_data = train_dataset[0]\n",
    "x, y = first_data"
   ]
  },
  {
   "cell_type": "code",
   "execution_count": 56,
   "metadata": {},
   "outputs": [
    {
     "data": {
      "text/plain": [
       "tensor([[-0.0212, -0.0270, -0.0237,  ..., -0.0148, -0.0065, -0.0155],\n",
       "        [-0.0002,  0.0000, -0.0077,  ..., -0.0030,  0.0037,  0.0008],\n",
       "        [-0.0055, -0.0013, -0.0045,  ...,  0.0073,  0.0118,  0.0137],\n",
       "        ...,\n",
       "        [-0.0153, -0.0143, -0.0145,  ...,  0.0112,  0.0148,  0.0175],\n",
       "        [-0.0102, -0.0112, -0.0117,  ...,  0.0087,  0.0147,  0.0043],\n",
       "        [ 0.0003, -0.0048, -0.0042,  ...,  0.0115,  0.0213,  0.0192]])"
      ]
     },
     "execution_count": 56,
     "metadata": {},
     "output_type": "execute_result"
    }
   ],
   "source": [
    "x"
   ]
  },
  {
   "cell_type": "code",
   "execution_count": 57,
   "metadata": {},
   "outputs": [
    {
     "data": {
      "text/plain": [
       "tensor(59.6421)"
      ]
     },
     "execution_count": 57,
     "metadata": {},
     "output_type": "execute_result"
    }
   ],
   "source": [
    "y"
   ]
  },
  {
   "cell_type": "code",
   "execution_count": 58,
   "metadata": {},
   "outputs": [
    {
     "data": {
      "text/plain": [
       "torch.Size([8, 5000])"
      ]
     },
     "execution_count": 58,
     "metadata": {},
     "output_type": "execute_result"
    }
   ],
   "source": [
    "x.shape"
   ]
  },
  {
   "cell_type": "code",
   "execution_count": 59,
   "metadata": {},
   "outputs": [
    {
     "data": {
      "text/plain": [
       "torch.Size([])"
      ]
     },
     "execution_count": 59,
     "metadata": {},
     "output_type": "execute_result"
    }
   ],
   "source": [
    "y.shape"
   ]
  },
  {
   "attachments": {},
   "cell_type": "markdown",
   "metadata": {},
   "source": [
    "### Residual Convoluted Neural Network"
   ]
  },
  {
   "cell_type": "code",
   "execution_count": 60,
   "metadata": {},
   "outputs": [],
   "source": [
    "# data loader\n",
    "# It allows you to efficiently load and iterate over batches of data during the training or evaluation process.\n",
    "train_dataloader = DataLoader(dataset=train_dataset, batch_size=32, shuffle=True, num_workers=2)\n",
    "validate_dataloader = DataLoader(dataset=validate_dataset, batch_size=32, shuffle=True, num_workers=2)"
   ]
  },
  {
   "cell_type": "code",
   "execution_count": 61,
   "metadata": {},
   "outputs": [
    {
     "name": "stdout",
     "output_type": "stream",
     "text": [
      "torch.Size([32, 8, 5000]) torch.Size([32])\n",
      "torch.float32 torch.float32\n"
     ]
    }
   ],
   "source": [
    "for x,y in train_dataloader:\n",
    "    print(x.shape, y.shape)\n",
    "    print(x.dtype, y.dtype)\n",
    "    break"
   ]
  },
  {
   "cell_type": "code",
   "execution_count": 62,
   "metadata": {},
   "outputs": [],
   "source": [
    "# Residual Block\n",
    "class ResidualBlock(nn.Module):\n",
    "    def __init__(self, in_channels, out_channels):\n",
    "        super(ResidualBlock, self).__init__()\n",
    "        # First convolutional layer of the residual block\n",
    "        self.conv1 = nn.Conv1d(in_channels, out_channels, kernel_size=3, stride=1, padding=1)\n",
    "        self.relu = nn.ReLU()\n",
    "        # Second convolutional layer of the residual block\n",
    "        self.conv2 = nn.Conv1d(out_channels, out_channels, kernel_size=3, stride=1, padding=1)\n",
    "\n",
    "    def forward(self, x):\n",
    "        residual = x\n",
    "        # Pass input through the first convolutional layer\n",
    "        out = self.conv1(x)\n",
    "        out = self.relu(out)\n",
    "        # Pass the output of the first convolutional layer through the second convolutional layer\n",
    "        out = self.conv2(out)\n",
    "        # Add the residual connection\n",
    "        out += residual\n",
    "        out = self.relu(out)\n",
    "        return out"
   ]
  },
  {
   "cell_type": "code",
   "execution_count": 63,
   "metadata": {},
   "outputs": [],
   "source": [
    "# Residual CNN model\n",
    "class ResidualCNN(nn.Module):\n",
    "    def __init__(self, num_classes):\n",
    "        super(ResidualCNN, self).__init__()\n",
    "        # Initial convolutional layer\n",
    "        self.conv1 = nn.Conv1d(8, 16, kernel_size=2, stride=1, padding=1)\n",
    "        self.relu = nn.ReLU()\n",
    "        self.maxpool = nn.MaxPool1d(kernel_size=2, stride=2)\n",
    "        # First residual block\n",
    "        self.res_block1 = ResidualBlock(16, 16)\n",
    "        # Second residual block\n",
    "        self.res_block2 = ResidualBlock(16, 16)\n",
    "        # Fully connected layer\n",
    "        self.fc = nn.Linear(16 * 2500, num_classes)\n",
    "\n",
    "    def forward(self, x):\n",
    "        # Pass input through the initial convolutional layer\n",
    "        x = self.conv1(x)\n",
    "        x = self.relu(x)\n",
    "        x = self.maxpool(x)\n",
    "        # Pass the output through the first residual block\n",
    "        x = self.res_block1(x)\n",
    "        # Pass the output through the second residual block\n",
    "        x = self.res_block2(x)\n",
    "        x = self.relu(x)\n",
    "        x = x.view(x.size(0), -1)\n",
    "        # Pass the flattened output through the fully connected layer\n",
    "        x = self.fc(x)\n",
    "        return x"
   ]
  },
  {
   "cell_type": "code",
   "execution_count": 64,
   "metadata": {},
   "outputs": [],
   "source": [
    "# hyperparameters\n",
    "num_classes = 1  # Number of output classes\n",
    "num_epochs = 100\n",
    "learning_rate = 0.000001"
   ]
  },
  {
   "cell_type": "code",
   "execution_count": 65,
   "metadata": {},
   "outputs": [],
   "source": [
    "wandb.config.num_epochs = num_epochs\n",
    "wandb.config.learning_rate = learning_rate"
   ]
  },
  {
   "cell_type": "code",
   "execution_count": 66,
   "metadata": {},
   "outputs": [],
   "source": [
    "model = ResidualCNN(num_classes)\n",
    "\n",
    "# criterion = nn.CrossEntropyLoss()\n",
    "criterion = nn.MSELoss()\n",
    "\n",
    "# optimizer = optim.Adam(model.parameters(), lr=learning_rate)\n",
    "optimizer = torch.optim.SGD(model.parameters(), lr=learning_rate)"
   ]
  },
  {
   "cell_type": "code",
   "execution_count": 67,
   "metadata": {},
   "outputs": [],
   "source": [
    "# Set up the wandb configuration and log hyperparameters\n",
    "wandb.config.num_epochs = num_epochs\n",
    "wandb.config.learning_rate = learning_rate"
   ]
  },
  {
   "cell_type": "code",
   "execution_count": 68,
   "metadata": {},
   "outputs": [],
   "source": [
    "def MAE(losses):\n",
    "    error_sum = 0\n",
    "    for loss in losses:\n",
    "        absolute_error = abs(loss - 0)  # Assuming 0 is the target value\n",
    "        error_sum += absolute_error\n",
    "\n",
    "    mean_absolute_error = error_sum / len(losses)\n",
    "    return mean_absolute_error"
   ]
  },
  {
   "cell_type": "code",
   "execution_count": 69,
   "metadata": {},
   "outputs": [
    {
     "name": "stdout",
     "output_type": "stream",
     "text": [
      "Epoch 1\n",
      "-------------------------------\n"
     ]
    },
    {
     "name": "stderr",
     "output_type": "stream",
     "text": [
      "/storage/projects2/e17-4yp-compreh-ecg-analysis/minicondaInst/envs/test/lib/python3.11/site-packages/torch/nn/modules/loss.py:536: UserWarning: Using a target size (torch.Size([32])) that is different to the input size (torch.Size([32, 1])). This will likely lead to incorrect results due to broadcasting. Please ensure they have the same size.\n",
      "  return F.mse_loss(input, target, reduction=self.reduction)\n",
      "/storage/projects2/e17-4yp-compreh-ecg-analysis/minicondaInst/envs/test/lib/python3.11/site-packages/torch/nn/modules/loss.py:536: UserWarning: Using a target size (torch.Size([16])) that is different to the input size (torch.Size([16, 1])). This will likely lead to incorrect results due to broadcasting. Please ensure they have the same size.\n",
      "  return F.mse_loss(input, target, reduction=self.reduction)\n"
     ]
    },
    {
     "name": "stdout",
     "output_type": "stream",
     "text": [
      "Epoch 2\n",
      "-------------------------------\n"
     ]
    },
    {
     "name": "stderr",
     "output_type": "stream",
     "text": [
      "/storage/projects2/e17-4yp-compreh-ecg-analysis/minicondaInst/envs/test/lib/python3.11/site-packages/torch/nn/modules/loss.py:536: UserWarning: Using a target size (torch.Size([4])) that is different to the input size (torch.Size([4, 1])). This will likely lead to incorrect results due to broadcasting. Please ensure they have the same size.\n",
      "  return F.mse_loss(input, target, reduction=self.reduction)\n"
     ]
    },
    {
     "name": "stdout",
     "output_type": "stream",
     "text": [
      "Epoch 3\n",
      "-------------------------------\n",
      "Epoch 4\n",
      "-------------------------------\n",
      "Epoch 5\n",
      "-------------------------------\n",
      "Epoch 6\n",
      "-------------------------------\n",
      "Epoch 7\n",
      "-------------------------------\n",
      "Epoch 8\n",
      "-------------------------------\n",
      "Epoch 9\n",
      "-------------------------------\n",
      "Epoch 10\n",
      "-------------------------------\n",
      "Epoch 11\n",
      "-------------------------------\n",
      "Epoch 12\n",
      "-------------------------------\n",
      "Epoch 13\n",
      "-------------------------------\n",
      "Epoch 14\n",
      "-------------------------------\n",
      "Epoch 15\n",
      "-------------------------------\n",
      "Epoch 16\n",
      "-------------------------------\n",
      "Epoch 17\n",
      "-------------------------------\n",
      "Epoch 18\n",
      "-------------------------------\n",
      "Epoch 19\n",
      "-------------------------------\n",
      "Epoch 20\n",
      "-------------------------------\n",
      "Epoch 21\n",
      "-------------------------------\n",
      "Epoch 22\n",
      "-------------------------------\n",
      "Epoch 23\n",
      "-------------------------------\n",
      "Epoch 24\n",
      "-------------------------------\n",
      "Epoch 25\n",
      "-------------------------------\n",
      "Epoch 26\n",
      "-------------------------------\n",
      "Epoch 27\n",
      "-------------------------------\n",
      "Epoch 28\n",
      "-------------------------------\n",
      "Epoch 29\n",
      "-------------------------------\n",
      "Epoch 30\n",
      "-------------------------------\n",
      "Epoch 31\n",
      "-------------------------------\n",
      "Epoch 32\n",
      "-------------------------------\n",
      "Epoch 33\n",
      "-------------------------------\n",
      "Epoch 34\n",
      "-------------------------------\n",
      "Epoch 35\n",
      "-------------------------------\n",
      "Epoch 36\n",
      "-------------------------------\n",
      "Epoch 37\n",
      "-------------------------------\n",
      "Epoch 38\n",
      "-------------------------------\n",
      "Epoch 39\n",
      "-------------------------------\n",
      "Epoch 40\n",
      "-------------------------------\n",
      "Epoch 41\n",
      "-------------------------------\n",
      "Epoch 42\n",
      "-------------------------------\n",
      "Epoch 43\n",
      "-------------------------------\n",
      "Epoch 44\n",
      "-------------------------------\n",
      "Epoch 45\n",
      "-------------------------------\n",
      "Epoch 46\n",
      "-------------------------------\n",
      "Epoch 47\n",
      "-------------------------------\n",
      "Epoch 48\n",
      "-------------------------------\n",
      "Epoch 49\n",
      "-------------------------------\n",
      "Epoch 50\n",
      "-------------------------------\n",
      "Epoch 51\n",
      "-------------------------------\n",
      "Epoch 52\n",
      "-------------------------------\n",
      "Epoch 53\n",
      "-------------------------------\n",
      "Epoch 54\n",
      "-------------------------------\n",
      "Epoch 55\n",
      "-------------------------------\n",
      "Epoch 56\n",
      "-------------------------------\n",
      "Epoch 57\n",
      "-------------------------------\n",
      "Epoch 58\n",
      "-------------------------------\n",
      "Epoch 59\n",
      "-------------------------------\n",
      "Epoch 60\n",
      "-------------------------------\n",
      "Epoch 61\n",
      "-------------------------------\n",
      "Epoch 62\n",
      "-------------------------------\n",
      "Epoch 63\n",
      "-------------------------------\n",
      "Epoch 64\n",
      "-------------------------------\n",
      "Epoch 65\n",
      "-------------------------------\n",
      "Epoch 66\n",
      "-------------------------------\n",
      "Epoch 67\n",
      "-------------------------------\n",
      "Epoch 68\n",
      "-------------------------------\n",
      "Epoch 69\n",
      "-------------------------------\n",
      "Epoch 70\n",
      "-------------------------------\n",
      "Epoch 71\n",
      "-------------------------------\n",
      "Epoch 72\n",
      "-------------------------------\n",
      "Epoch 73\n",
      "-------------------------------\n",
      "Epoch 74\n",
      "-------------------------------\n",
      "Epoch 75\n",
      "-------------------------------\n",
      "Epoch 76\n",
      "-------------------------------\n",
      "Epoch 77\n",
      "-------------------------------\n",
      "Epoch 78\n",
      "-------------------------------\n",
      "Epoch 79\n",
      "-------------------------------\n",
      "Epoch 80\n",
      "-------------------------------\n",
      "Epoch 81\n",
      "-------------------------------\n",
      "Epoch 82\n",
      "-------------------------------\n",
      "Epoch 83\n",
      "-------------------------------\n",
      "Epoch 84\n",
      "-------------------------------\n",
      "Epoch 85\n",
      "-------------------------------\n",
      "Epoch 86\n",
      "-------------------------------\n",
      "Epoch 87\n",
      "-------------------------------\n",
      "Epoch 88\n",
      "-------------------------------\n",
      "Epoch 89\n",
      "-------------------------------\n",
      "Epoch 90\n",
      "-------------------------------\n",
      "Epoch 91\n",
      "-------------------------------\n",
      "Epoch 92\n",
      "-------------------------------\n",
      "Epoch 93\n",
      "-------------------------------\n",
      "Epoch 94\n",
      "-------------------------------\n",
      "Epoch 95\n",
      "-------------------------------\n",
      "Epoch 96\n",
      "-------------------------------\n",
      "Epoch 97\n",
      "-------------------------------\n",
      "Epoch 98\n",
      "-------------------------------\n",
      "Epoch 99\n",
      "-------------------------------\n",
      "Epoch 100\n",
      "-------------------------------\n",
      "Done!\n",
      "CPU times: user 3h 36min 46s, sys: 5min 22s, total: 3h 42min 9s\n",
      "Wall time: 16min 36s\n"
     ]
    }
   ],
   "source": [
    "%%time\n",
    "\n",
    "train_losses = []\n",
    "val_losses = []\n",
    "epochs = []\n",
    "\n",
    "for epoch in range(wandb.config.num_epochs):\n",
    "    print(f\"Epoch {epoch+1}\\n-------------------------------\")\n",
    "    epochs.append(epoch)\n",
    "\n",
    "    train_losses_epoch = [] \n",
    "    for batch_inputs, batch_labels in train_dataloader:\n",
    "\n",
    "        # Forward pass\n",
    "        outputs = model(batch_inputs)\n",
    "        loss = criterion(outputs, batch_labels)\n",
    "        train_losses_epoch.append(int(loss))\n",
    "\n",
    "        # Backward pass and optimization\n",
    "        optimizer.zero_grad()\n",
    "        loss.backward()\n",
    "        optimizer.step()\n",
    "\n",
    "    \n",
    "    train_loss = MAE(train_losses_epoch)\n",
    "    train_losses.append(train_loss)\n",
    "\n",
    "\n",
    "    model.eval()\n",
    "    with torch.no_grad():\n",
    "        val_losses_epoch = []  # List to store validation losses for the current epoch\n",
    "        for batch, (X_val, y_val) in enumerate(validate_dataloader):\n",
    "            #X_val, y_val = X_val.to(device), y_val.to(device)\n",
    "\n",
    "            val_pred = model(X_val)\n",
    "            val_loss = criterion(val_pred, y_val)\n",
    "\n",
    "            val_losses_epoch.append(int(val_loss))\n",
    "\n",
    "        val_loss = MAE(val_losses_epoch)\n",
    "        val_losses.append(val_loss)\n",
    "\n",
    "wandb.log({\"ResNet: loss [mean absolute error] vs epoch\" : wandb.plot.line_series(\n",
    "                       xs=epochs, \n",
    "                       ys=[train_losses, val_losses],\n",
    "                       keys=[\"training\", \"validation\"],\n",
    "                       title=\"\",\n",
    "                       xname=\"epochs\")})\n",
    "\n",
    "print(\"Done!\")"
   ]
  },
  {
   "cell_type": "code",
   "execution_count": 70,
   "metadata": {},
   "outputs": [
    {
     "data": {
      "text/html": [
       "Waiting for W&B process to finish... <strong style=\"color:green\">(success).</strong>"
      ],
      "text/plain": [
       "<IPython.core.display.HTML object>"
      ]
     },
     "metadata": {},
     "output_type": "display_data"
    },
    {
     "data": {
      "text/html": [
       " View run <strong style=\"color:#cdcd00\">magic-valley-36</strong> at: <a href='https://wandb.ai/comprehensive-ecg-analysis/ECG-analysis-with-Deep-Learning-on-GPU-accelerators/runs/gp1m3qi7' target=\"_blank\">https://wandb.ai/comprehensive-ecg-analysis/ECG-analysis-with-Deep-Learning-on-GPU-accelerators/runs/gp1m3qi7</a><br/>Synced 6 W&B file(s), 1 media file(s), 1 artifact file(s) and 0 other file(s)"
      ],
      "text/plain": [
       "<IPython.core.display.HTML object>"
      ]
     },
     "metadata": {},
     "output_type": "display_data"
    },
    {
     "data": {
      "text/html": [
       "Find logs at: <code>./wandb/run-20230703_233401-gp1m3qi7/logs</code>"
      ],
      "text/plain": [
       "<IPython.core.display.HTML object>"
      ]
     },
     "metadata": {},
     "output_type": "display_data"
    }
   ],
   "source": [
    "# finish\n",
    "wandb.finish()"
   ]
  },
  {
   "cell_type": "code",
   "execution_count": null,
   "metadata": {},
   "outputs": [],
   "source": []
  }
 ],
 "metadata": {
  "kernelspec": {
   "display_name": "test",
   "language": "python",
   "name": "test"
  },
  "language_info": {
   "codemirror_mode": {
    "name": "ipython",
    "version": 3
   },
   "file_extension": ".py",
   "mimetype": "text/x-python",
   "name": "python",
   "nbconvert_exporter": "python",
   "pygments_lexer": "ipython3",
   "version": "3.11.3"
  }
 },
 "nbformat": 4,
 "nbformat_minor": 2
}
