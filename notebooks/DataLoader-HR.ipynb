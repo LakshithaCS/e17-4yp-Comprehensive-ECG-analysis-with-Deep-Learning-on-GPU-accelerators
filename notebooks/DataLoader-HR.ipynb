{
 "cells": [
  {
   "attachments": {},
   "cell_type": "markdown",
   "metadata": {},
   "source": [
    "#### 1. Setup and Importing Libraries"
   ]
  },
  {
   "cell_type": "code",
   "execution_count": 175,
   "metadata": {},
   "outputs": [],
   "source": [
    "import torch\n",
    "from torch import nn\n",
    "from torch.utils.data import DataLoader, Dataset # wraps an iterable around the dataset\n",
    "from torchvision import datasets    # stores the samples and their corresponding labels\n",
    "from torchvision.transforms import transforms  # transformations we can perform on our dataset\n",
    "from torchvision.transforms import ToTensor\n",
    "import pandas as pd\n",
    "import numpy as np\n",
    "import os\n",
    "import wandb\n",
    "import matplotlib.pyplot as plt"
   ]
  },
  {
   "cell_type": "code",
   "execution_count": 176,
   "metadata": {},
   "outputs": [],
   "source": [
    "# Set API Key\n",
    "os.environ[\"WANDB_API_KEY\"] = \"cf61e02cee13abdd3d8a232d29df527bd6cc7f89\"\n",
    "\n",
    "# Set the WANDB_NOTEBOOK_NAME environment variable to the name of your notebook (manually)\n",
    "os.environ[\"WANDB_NOTEBOOK_NAME\"] = \"DataLoader-HR.ipynb\"\n",
    "\n",
    "# set the WANDB_TEMP environment variable to a directory where we have write permissions\n",
    "os.environ[\"WANDB_TEMP\"] = os.getcwd()\n",
    "os.environ[\"WANDB_DIR\"] = os.getcwd()\n",
    "os.environ[\"WANDB_CONFIG_DIR\"] = os.getcwd()"
   ]
  },
  {
   "cell_type": "code",
   "execution_count": 177,
   "metadata": {},
   "outputs": [
    {
     "data": {
      "text/html": [
       "Tracking run with wandb version 0.15.4"
      ],
      "text/plain": [
       "<IPython.core.display.HTML object>"
      ]
     },
     "metadata": {},
     "output_type": "display_data"
    },
    {
     "data": {
      "text/html": [
       "Run data is saved locally in <code>/storage/projects2/e17-4yp-compreh-ecg-analysis/e17-4yp-Comprehensive-ECG-analysis-with-Deep-Learning-on-GPU-accelerators/notebooks/wandb/run-20230623_001133-0ijm8kdc</code>"
      ],
      "text/plain": [
       "<IPython.core.display.HTML object>"
      ]
     },
     "metadata": {},
     "output_type": "display_data"
    },
    {
     "data": {
      "text/html": [
       "Syncing run <strong><a href='https://wandb.ai/comprehensive-ecg-analysis/ECG-analysis-with-Deep-Learning-on-GPU-accelerators/runs/0ijm8kdc' target=\"_blank\">fallen-smoke-28</a></strong> to <a href='https://wandb.ai/comprehensive-ecg-analysis/ECG-analysis-with-Deep-Learning-on-GPU-accelerators' target=\"_blank\">Weights & Biases</a> (<a href='https://wandb.me/run' target=\"_blank\">docs</a>)<br/>"
      ],
      "text/plain": [
       "<IPython.core.display.HTML object>"
      ]
     },
     "metadata": {},
     "output_type": "display_data"
    },
    {
     "data": {
      "text/html": [
       " View project at <a href='https://wandb.ai/comprehensive-ecg-analysis/ECG-analysis-with-Deep-Learning-on-GPU-accelerators' target=\"_blank\">https://wandb.ai/comprehensive-ecg-analysis/ECG-analysis-with-Deep-Learning-on-GPU-accelerators</a>"
      ],
      "text/plain": [
       "<IPython.core.display.HTML object>"
      ]
     },
     "metadata": {},
     "output_type": "display_data"
    },
    {
     "data": {
      "text/html": [
       " View run at <a href='https://wandb.ai/comprehensive-ecg-analysis/ECG-analysis-with-Deep-Learning-on-GPU-accelerators/runs/0ijm8kdc' target=\"_blank\">https://wandb.ai/comprehensive-ecg-analysis/ECG-analysis-with-Deep-Learning-on-GPU-accelerators/runs/0ijm8kdc</a>"
      ],
      "text/plain": [
       "<IPython.core.display.HTML object>"
      ]
     },
     "metadata": {},
     "output_type": "display_data"
    },
    {
     "data": {
      "text/html": [
       "<button onClick=\"this.nextSibling.style.display='block';this.style.display='none';\">Display W&B run</button><iframe src='https://wandb.ai/comprehensive-ecg-analysis/ECG-analysis-with-Deep-Learning-on-GPU-accelerators/runs/0ijm8kdc?jupyter=true' style='border:none;width:100%;height:420px;display:none;'></iframe>"
      ],
      "text/plain": [
       "<wandb.sdk.wandb_run.Run at 0x7f3c046996d0>"
      ]
     },
     "execution_count": 177,
     "metadata": {},
     "output_type": "execute_result"
    }
   ],
   "source": [
    "wandb.init(project='ECG-analysis-with-Deep-Learning-on-GPU-accelerators')"
   ]
  },
  {
   "cell_type": "code",
   "execution_count": 178,
   "metadata": {},
   "outputs": [],
   "source": [
    "# Get cpu, gpu or mps device for training \n",
    "device = (\n",
    "    \"cuda\"\n",
    "    if torch.cuda.is_available()\n",
    "    else \"mps\"\n",
    "    if torch.backends.mps.is_available()\n",
    "    else \"cpu\"\n",
    ")"
   ]
  },
  {
   "attachments": {},
   "cell_type": "markdown",
   "metadata": {},
   "source": [
    "#### 2. Data Loader"
   ]
  },
  {
   "cell_type": "code",
   "execution_count": 179,
   "metadata": {},
   "outputs": [],
   "source": [
    "class ECGDataSet(Dataset):\n",
    "    \n",
    "    def __init__(self, split='train'):\n",
    "\n",
    "        self.split = split\n",
    "\n",
    "        # data loading\n",
    "        current_directory = os.getcwd()\n",
    "        self.parent_directory = os.path.dirname(current_directory)\n",
    "        train_small_path = os.path.join(self.parent_directory, 'data', 'deepfake-ecg-small', str(self.split) + '.csv')\n",
    "        self.df = pd.read_csv(train_small_path)  # Skip the header row\n",
    "        \n",
    "        # Avg RR interval\n",
    "        # in milli seconds\n",
    "        RR = torch.tensor(self.df['avgrrinterval'].values, dtype=torch.float32)\n",
    "        # calculate HR\n",
    "        self.y = 60 * 1000/RR\n",
    "\n",
    "        # Size of the dataset\n",
    "        self.samples = self.df.shape[0]\n",
    "\n",
    "    def __getitem__(self, index):\n",
    "        \n",
    "        # file path\n",
    "        filename= self.df['patid'].values[index]\n",
    "        asc_path = os.path.join(self.parent_directory, 'data', 'deepfake-ecg-small', str(self.split), str(filename) + '.asc')\n",
    "        \n",
    "        ecg_signals = pd.read_csv( asc_path, header=None, sep=\" \") # read into dataframe\n",
    "        ecg_signals = torch.tensor(ecg_signals.values) # convert dataframe values to tensor\n",
    "        \n",
    "        ecg_signals = ecg_signals.float()\n",
    "        \n",
    "        # Transposing the ecg signals\n",
    "        ecg_signals = ecg_signals/6000 # normalization\n",
    "        ecg_signals = ecg_signals.t() \n",
    "        \n",
    "        qt = self.y[index]\n",
    "        # Retrieve a sample from x and y based on the index\n",
    "        return ecg_signals, qt\n",
    "\n",
    "    def __len__(self):\n",
    "        # Return the total number of samples in the dataset\n",
    "        return self.samples\n",
    "    "
   ]
  },
  {
   "cell_type": "code",
   "execution_count": 180,
   "metadata": {},
   "outputs": [],
   "source": [
    "# ECG dataset\n",
    "train_dataset = ECGDataSet(split='train')\n",
    "validate_dataset = ECGDataSet(split='validate')"
   ]
  },
  {
   "cell_type": "code",
   "execution_count": 181,
   "metadata": {},
   "outputs": [],
   "source": [
    "# first data\n",
    "first_data = train_dataset[0]\n",
    "x, y = first_data"
   ]
  },
  {
   "cell_type": "code",
   "execution_count": 182,
   "metadata": {},
   "outputs": [
    {
     "data": {
      "text/plain": [
       "tensor([[-0.0212, -0.0270, -0.0237,  ..., -0.0148, -0.0065, -0.0155],\n",
       "        [-0.0002,  0.0000, -0.0077,  ..., -0.0030,  0.0037,  0.0008],\n",
       "        [-0.0055, -0.0013, -0.0045,  ...,  0.0073,  0.0118,  0.0137],\n",
       "        ...,\n",
       "        [-0.0153, -0.0143, -0.0145,  ...,  0.0112,  0.0148,  0.0175],\n",
       "        [-0.0102, -0.0112, -0.0117,  ...,  0.0087,  0.0147,  0.0043],\n",
       "        [ 0.0003, -0.0048, -0.0042,  ...,  0.0115,  0.0213,  0.0192]])"
      ]
     },
     "execution_count": 182,
     "metadata": {},
     "output_type": "execute_result"
    }
   ],
   "source": [
    "x"
   ]
  },
  {
   "cell_type": "code",
   "execution_count": 183,
   "metadata": {},
   "outputs": [
    {
     "data": {
      "text/plain": [
       "tensor(59.6421)"
      ]
     },
     "execution_count": 183,
     "metadata": {},
     "output_type": "execute_result"
    }
   ],
   "source": [
    "y"
   ]
  },
  {
   "cell_type": "code",
   "execution_count": 184,
   "metadata": {},
   "outputs": [
    {
     "data": {
      "text/plain": [
       "torch.Size([8, 5000])"
      ]
     },
     "execution_count": 184,
     "metadata": {},
     "output_type": "execute_result"
    }
   ],
   "source": [
    "x.shape"
   ]
  },
  {
   "cell_type": "code",
   "execution_count": 185,
   "metadata": {},
   "outputs": [
    {
     "data": {
      "text/plain": [
       "torch.Size([])"
      ]
     },
     "execution_count": 185,
     "metadata": {},
     "output_type": "execute_result"
    }
   ],
   "source": [
    "y.shape"
   ]
  },
  {
   "cell_type": "code",
   "execution_count": 186,
   "metadata": {},
   "outputs": [],
   "source": [
    "# data loader\n",
    "# It allows you to efficiently load and iterate over batches of data during the training or evaluation process.\n",
    "train_dataloader = DataLoader(dataset=train_dataset, batch_size=32, shuffle=True, num_workers=2)\n",
    "validate_dataloader = DataLoader(dataset=validate_dataset, batch_size=32, shuffle=True, num_workers=2)"
   ]
  },
  {
   "cell_type": "code",
   "execution_count": 187,
   "metadata": {},
   "outputs": [
    {
     "name": "stdout",
     "output_type": "stream",
     "text": [
      "torch.Size([32, 8, 5000]) torch.Size([32])\n",
      "torch.float32 torch.float32\n"
     ]
    }
   ],
   "source": [
    "for x,y in train_dataloader:\n",
    "    print(x.shape, y.shape)\n",
    "    print(x.dtype, y.dtype)\n",
    "    break"
   ]
  },
  {
   "attachments": {},
   "cell_type": "markdown",
   "metadata": {},
   "source": [
    "### Nueral Network"
   ]
  },
  {
   "cell_type": "code",
   "execution_count": 188,
   "metadata": {},
   "outputs": [],
   "source": [
    "num_epochs = 100\n",
    "learning_rate = 0.000001"
   ]
  },
  {
   "cell_type": "code",
   "execution_count": 189,
   "metadata": {},
   "outputs": [],
   "source": [
    "wandb.config.num_epochs = num_epochs\n",
    "wandb.config.learning_rate = learning_rate"
   ]
  },
  {
   "cell_type": "code",
   "execution_count": 190,
   "metadata": {},
   "outputs": [
    {
     "name": "stdout",
     "output_type": "stream",
     "text": [
      "NeuralNetwork(\n",
      "  (flatten): Flatten(start_dim=1, end_dim=-1)\n",
      "  (linear_relu_stack): Sequential(\n",
      "    (0): Linear(in_features=40000, out_features=1000, bias=True)\n",
      "    (1): ReLU()\n",
      "    (2): Linear(in_features=1000, out_features=1000, bias=True)\n",
      "    (3): ReLU()\n",
      "    (4): Linear(in_features=1000, out_features=500, bias=True)\n",
      "    (5): ReLU()\n",
      "    (6): Linear(in_features=500, out_features=1, bias=True)\n",
      "  )\n",
      ")\n"
     ]
    }
   ],
   "source": [
    "# Define the model\n",
    "# nn.Module --> base class for all neural network modules\n",
    "class NeuralNetwork(nn.Module):\n",
    "    #network archirecture is defined in the init method\n",
    "    def __init__(self):\n",
    "        super().__init__()      #calls the __init__() method of the nn.Module pearent class \n",
    "        #( to ensure that the necessary setup and initialization from the parent class are performed.)\n",
    "        #This is important because the nn.Module class performs important bookkeeping tasks and sets up the internal state of the module.\n",
    "\n",
    "        #self.x are methods below. \n",
    "        self.flatten = nn.Flatten()\n",
    "\n",
    "        self.linear_relu_stack = nn.Sequential( # allows to stack multiple layers in a sequential manner\n",
    "            nn.Linear(8*5000,1000 ),\n",
    "            nn.ReLU(),\n",
    "            nn.Linear(1000, 1000),\n",
    "            nn.ReLU(),\n",
    "            nn.Linear(1000, 500),\n",
    "            nn.ReLU(),\n",
    "            nn.Linear(500,1)\n",
    "        )\n",
    "        \n",
    "\n",
    "    # method to define the forward pass computation of the model\n",
    "    def forward(self, x):\n",
    "        #x = self.flatten(x)   --> __call__ method is used to call the forward method (IMPORTANT)\n",
    "        #x = self.linear_relu_stack(x) this also can be used\n",
    "        x = self.flatten.forward(x)\n",
    "        logits = self.linear_relu_stack.forward(x)\n",
    "        return logits\n",
    "    \n",
    "model = NeuralNetwork().to(device)\n",
    "print(model)"
   ]
  },
  {
   "cell_type": "code",
   "execution_count": 191,
   "metadata": {},
   "outputs": [],
   "source": [
    "# loss function\n",
    "#loss_fn = nn.CrossEntropyLoss()\n",
    "loss_fn = nn.MSELoss()\n",
    "optimizer = torch.optim.Adam(model.parameters(), lr=learning_rate)"
   ]
  },
  {
   "cell_type": "code",
   "execution_count": 192,
   "metadata": {},
   "outputs": [
    {
     "ename": "SyntaxError",
     "evalue": "invalid syntax. Perhaps you forgot a comma? (<unknown>, line 57)",
     "output_type": "error",
     "traceback": [
      "Traceback \u001b[0;36m(most recent call last)\u001b[0m:\n",
      "\u001b[0m  File \u001b[1;32m/storage/projects2/e17-4yp-compreh-ecg-analysis/minicondaInst/envs/test/lib/python3.11/site-packages/IPython/core/interactiveshell.py:3505\u001b[0m in \u001b[1;35mrun_code\u001b[0m\n    exec(code_obj, self.user_global_ns, self.user_ns)\u001b[0m\n",
      "\u001b[0m  Cell \u001b[1;32mIn[192], line 1\u001b[0m\n    get_ipython().run_cell_magic('time', '', '\\ntrain_losses = []\\nval_losses = []\\nepochs = []\\n\\nfor t in range(num_epochs):\\n    train_losses_epoch = [] \\n    print(f\"Epoch {t+1}\\\\n-------------------------------\")\\n\\n    size = len(train_dataloader.dataset)  # get the total number of samples in the dataset\\n    model.train()   #sets the model in training mode (Stets the attribute named Training to True for the model instance) \\n    #Dropout, batch normalization, etc. are used during training.\\n\\n    # iterates over the batches in the dataloader\\n    for batch, (X, y) in enumerate(train_dataloader):\\n        # moves the input data to the device\\n        X, y = X.to(device), y.to(device)\\n\\n        # compute prediction and loss --> Forward pass\\n        pred = model(X)\\n        loss = loss_fn(pred, y)\\n\\n        train_losses_epoch.append(int(loss))\\n\\n        #Backpropagation\\n        loss.backward() # compute the gradients of the model\\'s parameters with respect to the loss function\\'s output\\n        optimizer.step()    #Update the models parameters an optimization algorithm\\n        optimizer.zero_grad()   # Sets all the gradients to zero. If the gradients are not cleared they ll be accumilated.\\n\\n    \\n    train_loss = np.mean(train_losses_epoch)\\n    train_losses.append(train_loss)\\n\\n    # Validation loop\\n    model.eval()\\n    with torch.no_grad():\\n        val_losses_epoch = []  # List to store validation losses for the current epoch\\n        for batch, (X_val, y_val) in enumerate(validate_dataloader):\\n            X_val, y_val = X_val.to(device), y_val.to(device)\\n\\n            val_pred = model(X_val)\\n            val_loss = loss_fn(val_pred, y_val)\\n\\n            val_losses_epoch.append(int(val_loss))\\n\\n    val_loss = np.mean(val_losses_epoch)\\n    val_losses.append(val_loss)\\n\\n    epochs.append(t)\\n\\n\\n\\nwandb.log({\"loss vs epoch\" : wandb.plot.line_series(\\n                       xs=epochs, \\n                       ys=[train_losses, val_losses],\\n                       keys=[\"training\", \"validation\"],\\n                       title=\"\",\\n                       xname=\"epochs\"\\n                       yname=\"loss\")})\\n\\nprint(\"Done!\")\\n')\u001b[0m\n",
      "\u001b[0m  File \u001b[1;32m/storage/projects2/e17-4yp-compreh-ecg-analysis/minicondaInst/envs/test/lib/python3.11/site-packages/IPython/core/interactiveshell.py:2475\u001b[0m in \u001b[1;35mrun_cell_magic\u001b[0m\n    result = fn(*args, **kwargs)\u001b[0m\n",
      "\u001b[0m  File \u001b[1;32m/storage/projects2/e17-4yp-compreh-ecg-analysis/minicondaInst/envs/test/lib/python3.11/site-packages/IPython/core/magics/execution.py:1281\u001b[0m in \u001b[1;35mtime\u001b[0m\n    expr_ast = self.shell.compile.ast_parse(expr)\u001b[0m\n",
      "\u001b[0;36m  File \u001b[0;32m/storage/projects2/e17-4yp-compreh-ecg-analysis/minicondaInst/envs/test/lib/python3.11/site-packages/IPython/core/compilerop.py:86\u001b[0;36m in \u001b[0;35mast_parse\u001b[0;36m\n\u001b[0;31m    return compile(source, filename, symbol, self.flags | PyCF_ONLY_AST, 1)\u001b[0;36m\n",
      "\u001b[0;36m  File \u001b[0;32m<unknown>:57\u001b[0;36m\u001b[0m\n\u001b[0;31m    xname=\"epochs\"\u001b[0m\n\u001b[0m          ^\u001b[0m\n\u001b[0;31mSyntaxError\u001b[0m\u001b[0;31m:\u001b[0m invalid syntax. Perhaps you forgot a comma?\n"
     ]
    }
   ],
   "source": [
    "%%time\n",
    "\n",
    "train_losses = []\n",
    "val_losses = []\n",
    "epochs = []\n",
    "\n",
    "for t in range(num_epochs):\n",
    "    train_losses_epoch = [] \n",
    "    print(f\"Epoch {t+1}\\n-------------------------------\")\n",
    "\n",
    "    size = len(train_dataloader.dataset)  # get the total number of samples in the dataset\n",
    "    model.train()   #sets the model in training mode (Stets the attribute named Training to True for the model instance) \n",
    "    #Dropout, batch normalization, etc. are used during training.\n",
    "\n",
    "    # iterates over the batches in the dataloader\n",
    "    for batch, (X, y) in enumerate(train_dataloader):\n",
    "        # moves the input data to the device\n",
    "        X, y = X.to(device), y.to(device)\n",
    "\n",
    "        # compute prediction and loss --> Forward pass\n",
    "        pred = model(X)\n",
    "        loss = loss_fn(pred, y)\n",
    "\n",
    "        train_losses_epoch.append(int(loss))\n",
    "\n",
    "        #Backpropagation\n",
    "        loss.backward() # compute the gradients of the model's parameters with respect to the loss function's output\n",
    "        optimizer.step()    #Update the models parameters an optimization algorithm\n",
    "        optimizer.zero_grad()   # Sets all the gradients to zero. If the gradients are not cleared they ll be accumilated.\n",
    "\n",
    "    \n",
    "    train_loss = np.mean(train_losses_epoch)\n",
    "    train_losses.append(train_loss)\n",
    "\n",
    "    # Validation loop\n",
    "    model.eval()\n",
    "    with torch.no_grad():\n",
    "        val_losses_epoch = []  # List to store validation losses for the current epoch\n",
    "        for batch, (X_val, y_val) in enumerate(validate_dataloader):\n",
    "            X_val, y_val = X_val.to(device), y_val.to(device)\n",
    "\n",
    "            val_pred = model(X_val)\n",
    "            val_loss = loss_fn(val_pred, y_val)\n",
    "\n",
    "            val_losses_epoch.append(int(val_loss))\n",
    "\n",
    "    val_loss = np.mean(val_losses_epoch)\n",
    "    val_losses.append(val_loss)\n",
    "\n",
    "    epochs.append(t)\n",
    "\n",
    "\n",
    "\n",
    "wandb.log({\"loss vs epoch\" : wandb.plot.line_series(\n",
    "                       xs=epochs, \n",
    "                       ys=[train_losses, val_losses],\n",
    "                       keys=[\"training\", \"validation\"],\n",
    "                       title=\"\",\n",
    "                       xname=\"epochs\",\n",
    "                       yname=\"loss\")})\n",
    "\n",
    "print(\"Done!\")"
   ]
  },
  {
   "cell_type": "code",
   "execution_count": null,
   "metadata": {},
   "outputs": [
    {
     "data": {
      "text/html": [
       "Waiting for W&B process to finish... <strong style=\"color:green\">(success).</strong>"
      ],
      "text/plain": [
       "<IPython.core.display.HTML object>"
      ]
     },
     "metadata": {},
     "output_type": "display_data"
    },
    {
     "data": {
      "text/html": [
       " View run <strong style=\"color:#cdcd00\">glad-pine-27</strong> at: <a href='https://wandb.ai/comprehensive-ecg-analysis/ECG-analysis-with-Deep-Learning-on-GPU-accelerators/runs/cmlojvqm' target=\"_blank\">https://wandb.ai/comprehensive-ecg-analysis/ECG-analysis-with-Deep-Learning-on-GPU-accelerators/runs/cmlojvqm</a><br/>Synced 6 W&B file(s), 1 media file(s), 3 artifact file(s) and 0 other file(s)"
      ],
      "text/plain": [
       "<IPython.core.display.HTML object>"
      ]
     },
     "metadata": {},
     "output_type": "display_data"
    },
    {
     "data": {
      "text/html": [
       "Find logs at: <code>./wandb/run-20230623_000000-cmlojvqm/logs</code>"
      ],
      "text/plain": [
       "<IPython.core.display.HTML object>"
      ]
     },
     "metadata": {},
     "output_type": "display_data"
    }
   ],
   "source": [
    "# finish\n",
    "wandb.finish()"
   ]
  }
 ],
 "metadata": {
  "kernelspec": {
   "display_name": "test",
   "language": "python",
   "name": "test"
  },
  "language_info": {
   "codemirror_mode": {
    "name": "ipython",
    "version": 3
   },
   "file_extension": ".py",
   "mimetype": "text/x-python",
   "name": "python",
   "nbconvert_exporter": "python",
   "pygments_lexer": "ipython3",
   "version": "3.11.3"
  }
 },
 "nbformat": 4,
 "nbformat_minor": 2
}
