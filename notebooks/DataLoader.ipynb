{
 "cells": [
  {
   "attachments": {},
   "cell_type": "markdown",
   "metadata": {},
   "source": [
    "#### 1. Setup and Importing Libraries"
   ]
  },
  {
   "cell_type": "code",
   "execution_count": 60,
   "metadata": {},
   "outputs": [],
   "source": [
    "import torch\n",
    "from torch import nn\n",
    "from torch.utils.data import DataLoader, Dataset # wraps an iterable around the dataset\n",
    "from torchvision import datasets    # stores the samples and their corresponding labels\n",
    "from torchvision.transforms import transforms  # transformations we can perform on our dataset\n",
    "from torchvision.transforms import ToTensor\n",
    "import pandas as pd\n",
    "import numpy as np\n",
    "import os"
   ]
  },
  {
   "attachments": {},
   "cell_type": "markdown",
   "metadata": {},
   "source": [
    "#### 2. Data Loader"
   ]
  },
  {
   "cell_type": "code",
   "execution_count": 95,
   "metadata": {},
   "outputs": [],
   "source": [
    "class ECGDataSet(Dataset):\n",
    "    \n",
    "    def __init__(self):\n",
    "        # data loading\n",
    "        current_directory = os.getcwd()\n",
    "        parent_directory = os.path.dirname(current_directory)\n",
    "        train_small_path = os.path.join(parent_directory, 'data', 'deepfake-ecg-small', 'train.csv')\n",
    "        xy = pd.read_csv(train_small_path)  # Skip the header row\n",
    "        \n",
    "        # QT\n",
    "        self.y = torch.tensor(xy['qt'].values)\n",
    "        patient_ids = xy['patid'].values\n",
    "\n",
    "        # ECG reports\n",
    "        self.x = []\n",
    "        # read each asc file\n",
    "        for patient_id in patient_ids:\n",
    "            asc_path = os.path.join(parent_directory, 'data', 'deepfake-ecg-small', 'train', str(patient_id)+'.asc')\n",
    "            ecg_data = np.loadtxt(asc_path)\n",
    "            ecg_tensor = torch.from_numpy(ecg_data)\n",
    "            ecg_tensor = ecg_tensor.permute(1, 0).unsqueeze(2)\n",
    "            self.x.append(ecg_tensor)\n",
    "\n",
    "        # Size of the dataset\n",
    "        self.samples = xy.shape[0]\n",
    "\n",
    "    def __getitem__(self, index):\n",
    "        # Retrieve a sample from x and y based on the index\n",
    "        return self.x[index], self.y[index]\n",
    "\n",
    "    def __len__(self):\n",
    "        # Return the total number of samples in the dataset\n",
    "        return self.samples\n",
    "    \n",
    "    # def read_file(self, filename):\n",
    "    #     # Read the file and extract the lines\n",
    "    #     with open(filename, 'r') as file:\n",
    "    #         lines = file.readlines()\n",
    "    #         # Initialize an empty matrix\n",
    "    #         matrix = np.empty((8, 5000))\n",
    "    #         # Iterate over each line and fill the matrix\n",
    "    #         for i, line in enumerate(lines):\n",
    "    #         # Split the line into individual values\n",
    "    #             values = line.split()\n",
    "    #             # Convert the values to integers and store them in the matrix\n",
    "    #             matrix[:, i] = np.array(values, dtype=int)\n",
    "\n",
    "    #     return matrix"
   ]
  },
  {
   "cell_type": "code",
   "execution_count": 96,
   "metadata": {},
   "outputs": [],
   "source": [
    "# ECG dataset\n",
    "dataset = ECGDataSet()"
   ]
  },
  {
   "cell_type": "code",
   "execution_count": 97,
   "metadata": {},
   "outputs": [],
   "source": [
    "# first data\n",
    "first_data = dataset[0]\n",
    "x, y = first_data"
   ]
  },
  {
   "cell_type": "code",
   "execution_count": 98,
   "metadata": {},
   "outputs": [
    {
     "data": {
      "text/plain": [
       "tensor([[[-127.],\n",
       "         [-162.],\n",
       "         [-142.],\n",
       "         ...,\n",
       "         [ -89.],\n",
       "         [ -39.],\n",
       "         [ -93.]],\n",
       "\n",
       "        [[  -1.],\n",
       "         [   0.],\n",
       "         [ -46.],\n",
       "         ...,\n",
       "         [ -18.],\n",
       "         [  22.],\n",
       "         [   5.]],\n",
       "\n",
       "        [[ -33.],\n",
       "         [  -8.],\n",
       "         [ -27.],\n",
       "         ...,\n",
       "         [  44.],\n",
       "         [  71.],\n",
       "         [  82.]],\n",
       "\n",
       "        ...,\n",
       "\n",
       "        [[ -92.],\n",
       "         [ -86.],\n",
       "         [ -87.],\n",
       "         ...,\n",
       "         [  67.],\n",
       "         [  89.],\n",
       "         [ 105.]],\n",
       "\n",
       "        [[ -61.],\n",
       "         [ -67.],\n",
       "         [ -70.],\n",
       "         ...,\n",
       "         [  52.],\n",
       "         [  88.],\n",
       "         [  26.]],\n",
       "\n",
       "        [[   2.],\n",
       "         [ -29.],\n",
       "         [ -25.],\n",
       "         ...,\n",
       "         [  69.],\n",
       "         [ 128.],\n",
       "         [ 115.]]], dtype=torch.float64)"
      ]
     },
     "execution_count": 98,
     "metadata": {},
     "output_type": "execute_result"
    }
   ],
   "source": [
    "x"
   ]
  },
  {
   "cell_type": "code",
   "execution_count": 99,
   "metadata": {},
   "outputs": [
    {
     "data": {
      "text/plain": [
       "tensor(434)"
      ]
     },
     "execution_count": 99,
     "metadata": {},
     "output_type": "execute_result"
    }
   ],
   "source": [
    "y"
   ]
  },
  {
   "cell_type": "code",
   "execution_count": 100,
   "metadata": {},
   "outputs": [
    {
     "data": {
      "text/plain": [
       "torch.Size([8, 5000, 1])"
      ]
     },
     "execution_count": 100,
     "metadata": {},
     "output_type": "execute_result"
    }
   ],
   "source": [
    "x.shape"
   ]
  },
  {
   "cell_type": "code",
   "execution_count": 101,
   "metadata": {},
   "outputs": [
    {
     "data": {
      "text/plain": [
       "torch.Size([])"
      ]
     },
     "execution_count": 101,
     "metadata": {},
     "output_type": "execute_result"
    }
   ],
   "source": [
    "y.shape"
   ]
  },
  {
   "cell_type": "code",
   "execution_count": 102,
   "metadata": {},
   "outputs": [],
   "source": [
    "# data loader\n",
    "# It allows you to efficiently load and iterate over batches of data during the training or evaluation process.\n",
    "dataloader = DataLoader(dataset=dataset, batch_size=4, shuffle=True, num_workers=2)"
   ]
  },
  {
   "attachments": {},
   "cell_type": "markdown",
   "metadata": {},
   "source": [
    "### CNN"
   ]
  },
  {
   "cell_type": "code",
   "execution_count": 103,
   "metadata": {},
   "outputs": [],
   "source": [
    "# Load whole dataset with DataLoader\n",
    "# shuffle: shuffle data, good for training\n",
    "# num_workers: faster loading with multiple subprocesses\n",
    "# !!! IF YOU GET AN ERROR DURING LOADING, SET num_workers TO 0 !!!\n",
    "batch_size = 4\n",
    "dataloader = DataLoader(dataset=dataset,\n",
    "                          batch_size=batch_size,\n",
    "                          shuffle=True,\n",
    "                          num_workers=2)\n",
    "\n",
    "# # convert to an iterator and look at one random sample\n",
    "# dataiter = iter(train_loader)\n",
    "# data = next(dataiter)\n",
    "# features, labels = data\n",
    "# print(features, labels)"
   ]
  },
  {
   "cell_type": "code",
   "execution_count": 104,
   "metadata": {},
   "outputs": [],
   "source": [
    "# CNN model\n",
    "class CNN(nn.Module):\n",
    "    def __init__(self, num_classes):\n",
    "        super(CNN, self).__init__()\n",
    "        self.conv1 = nn.Conv1d(8, 16, kernel_size=3, stride=1, padding=1)\n",
    "        self.relu = nn.ReLU()\n",
    "        self.maxpool = nn.MaxPool1d(kernel_size=2, stride=2)\n",
    "        self.fc = nn.Linear(16 * 2500, num_classes)\n",
    "\n",
    "    def forward(self, x):\n",
    "        x = self.conv1(x)\n",
    "        x = self.relu(x)\n",
    "        x = self.maxpool(x)\n",
    "        x = x.view(x.size(0), -1)\n",
    "        x = self.fc(x)\n",
    "        return x\n"
   ]
  },
  {
   "cell_type": "code",
   "execution_count": 105,
   "metadata": {},
   "outputs": [],
   "source": [
    "# hyperparameters\n",
    "num_classes = 1  # Number of output classes\n",
    "learning_rate = 0.001\n",
    "num_epochs = 1"
   ]
  },
  {
   "cell_type": "code",
   "execution_count": 106,
   "metadata": {},
   "outputs": [],
   "source": [
    "model = CNN(num_classes)\n",
    "\n",
    "# criterion = nn.CrossEntropyLoss()\n",
    "criterion = nn.MSELoss()\n",
    "\n",
    "# optimizer = optim.Adam(model.parameters(), lr=learning_rate)\n",
    "optimizer = torch.optim.SGD(model.parameters(), lr=learning_rate)"
   ]
  },
  {
   "cell_type": "code",
   "execution_count": 107,
   "metadata": {},
   "outputs": [],
   "source": [
    "for epoch in range(num_epochs):\n",
    "    for batch_inputs, batch_labels in dataloader:\n",
    "        # Forward pass\n",
    "        outputs = model(batch_inputs)\n",
    "        loss = criterion(outputs, batch_labels)\n",
    "\n",
    "        # Backward pass and optimization\n",
    "        optimizer.zero_grad()\n",
    "        loss.backward()\n",
    "        optimizer.step()\n",
    "\n",
    "    # Print the loss after every epoch\n",
    "    print(f\"Epoch [{epoch+1}/{num_epochs}], Loss: {loss.item():.4f}\")"
   ]
  }
 ],
 "metadata": {
  "kernelspec": {
   "display_name": "Python 3",
   "language": "python",
   "name": "python3"
  },
  "language_info": {
   "codemirror_mode": {
    "name": "ipython",
    "version": 3
   },
   "file_extension": ".py",
   "mimetype": "text/x-python",
   "name": "python",
   "nbconvert_exporter": "python",
   "pygments_lexer": "ipython3",
   "version": "3.11.3"
  },
  "orig_nbformat": 4
 },
 "nbformat": 4,
 "nbformat_minor": 2
}
